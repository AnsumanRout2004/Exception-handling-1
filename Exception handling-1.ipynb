{
 "cells": [
  {
   "cell_type": "code",
   "execution_count": 4,
   "id": "7850ed16-ed63-495a-8f1b-33919ca52860",
   "metadata": {},
   "outputs": [
    {
     "name": "stdout",
     "output_type": "stream",
     "text": [
      "Syntax Error: invalid syntax (<string>, line 1)\n",
      "Exception: division by zero\n"
     ]
    }
   ],
   "source": [
    "### Q1. What is an Exception in Python? Difference between Exceptions and Syntax Errors\n",
    "\n",
    "# An exception is an event that occurs during the execution of a program that disrupts normal flow.\n",
    "# Syntax errors occur when there is an issue with the syntax of the code, preventing execution.\n",
    "\n",
    "try:\n",
    "    eval('x === y')  # Syntax Error\n",
    "except SyntaxError as e:\n",
    "    print(\"Syntax Error:\", e)\n",
    "\n",
    "try:\n",
    "    print(5 / 0)  # Exception: Division by zero\n",
    "except ZeroDivisionError as e:\n",
    "    print(\"Exception:\", e)\n",
    "\n",
    "\n",
    "\n",
    "\n",
    "\n"
   ]
  },
  {
   "cell_type": "code",
   "execution_count": 6,
   "id": "33fb9294-eb65-4aed-98a7-de4c8205a485",
   "metadata": {},
   "outputs": [
    {
     "ename": "ZeroDivisionError",
     "evalue": "division by zero",
     "output_type": "error",
     "traceback": [
      "\u001b[1;31m---------------------------------------------------------------------------\u001b[0m",
      "\u001b[1;31mZeroDivisionError\u001b[0m                         Traceback (most recent call last)",
      "Cell \u001b[1;32mIn[6], line 7\u001b[0m\n\u001b[0;32m      4\u001b[0m \u001b[38;5;28;01mdef\u001b[39;00m \u001b[38;5;21mdivide\u001b[39m(x, y):\n\u001b[0;32m      5\u001b[0m     \u001b[38;5;28;01mreturn\u001b[39;00m x \u001b[38;5;241m/\u001b[39m y  \u001b[38;5;66;03m# This will cause an exception if y = 0\u001b[39;00m\n\u001b[1;32m----> 7\u001b[0m divide(\u001b[38;5;241m5\u001b[39m, \u001b[38;5;241m0\u001b[39m)\n",
      "Cell \u001b[1;32mIn[6], line 5\u001b[0m, in \u001b[0;36mdivide\u001b[1;34m(x, y)\u001b[0m\n\u001b[0;32m      4\u001b[0m \u001b[38;5;28;01mdef\u001b[39;00m \u001b[38;5;21mdivide\u001b[39m(x, y):\n\u001b[1;32m----> 5\u001b[0m     \u001b[38;5;28;01mreturn\u001b[39;00m x \u001b[38;5;241m/\u001b[39m y\n",
      "\u001b[1;31mZeroDivisionError\u001b[0m: division by zero"
     ]
    }
   ],
   "source": [
    "### Q2. What happens when an exception is not handled?\n",
    "\n",
    "# If an exception is not handled, the program crashes.\n",
    "def divide(x, y):\n",
    "    return x / y  # This will cause an exception if y = 0\n",
    "\n",
    "divide(5, 0)  # Unhandled exception"
   ]
  },
  {
   "cell_type": "code",
   "execution_count": 8,
   "id": "b62a8746-c22f-4063-a959-abe35c9a3cab",
   "metadata": {},
   "outputs": [
    {
     "name": "stdout",
     "output_type": "stream",
     "text": [
      "Cannot divide by zero!\n"
     ]
    }
   ],
   "source": [
    "### Q3. Which Python statements are used to catch and handle exceptions?\n",
    "\n",
    "# The 'try' and 'except' blocks are used to catch and handle exceptions.\n",
    "try:\n",
    "    print(10 / 0)\n",
    "except ZeroDivisionError:\n",
    "    print(\"Cannot divide by zero!\")\n"
   ]
  },
  {
   "cell_type": "code",
   "execution_count": 10,
   "id": "7baaea2f-7e38-4540-a4d5-9ce6bd3763d5",
   "metadata": {},
   "outputs": [
    {
     "name": "stdout",
     "output_type": "stream",
     "text": [
      "Division successful: 5.0\n",
      "File closed successfully\n",
      "Exception Raised: Age cannot be negative\n"
     ]
    }
   ],
   "source": [
    "### Q4. Examples of try, else, finally, and raise\n",
    "\n",
    "# Example of try and else\n",
    "try:\n",
    "    result = 10 / 2\n",
    "except ZeroDivisionError:\n",
    "    print(\"Cannot divide by zero!\")\n",
    "else:\n",
    "    print(\"Division successful:\", result)\n",
    "\n",
    "# Example of finally\n",
    "try:\n",
    "    f = open(\"test.txt\", \"w\")\n",
    "    f.write(\"Hello World\")\n",
    "finally:\n",
    "    f.close()\n",
    "    print(\"File closed successfully\")\n",
    "\n",
    "# Example of raise\n",
    "try:\n",
    "    age = -1\n",
    "    if age < 0:\n",
    "        raise ValueError(\"Age cannot be negative\")\n",
    "except ValueError as e:\n",
    "    print(\"Exception Raised:\", e)\n"
   ]
  },
  {
   "cell_type": "code",
   "execution_count": null,
   "id": "559ef219-e7b7-4eb7-a746-ca1f5bb01a2a",
   "metadata": {},
   "outputs": [],
   "source": [
    "### Q5 & Q6. Custom Exceptions in Python\n",
    "\n",
    "# Custom exceptions help us define specific error handling scenarios.\n",
    "class NegativeValueError(Exception):\n",
    "    \"\"\"Custom Exception for negative values\"\"\"\n",
    "    def __init__(self, message=\"Value cannot be negative\"):\n",
    "        self.message = message\n",
    "        super().__init__(self.message)\n",
    "\n",
    "# Using Custom Exception\n",
    "try:\n",
    "    value = -10\n",
    "    if value < 0:\n",
    "        raise NegativeValueError(\"Custom Error: Negative values are not allowed\")\n",
    "except NegativeValueError as e:\n",
    "    print(e)\n"
   ]
  },
  {
   "cell_type": "code",
   "execution_count": null,
   "id": "f6321679-5ecd-4971-ac2a-3703c32be6e6",
   "metadata": {},
   "outputs": [],
   "source": []
  },
  {
   "cell_type": "code",
   "execution_count": null,
   "id": "ac418824-5fab-4683-b7b0-53abd733b654",
   "metadata": {},
   "outputs": [],
   "source": []
  },
  {
   "cell_type": "code",
   "execution_count": null,
   "id": "01d97f46-c41d-4ada-b789-1510d5e05ed4",
   "metadata": {},
   "outputs": [],
   "source": []
  }
 ],
 "metadata": {
  "kernelspec": {
   "display_name": "Python [conda env:base] *",
   "language": "python",
   "name": "conda-base-py"
  },
  "language_info": {
   "codemirror_mode": {
    "name": "ipython",
    "version": 3
   },
   "file_extension": ".py",
   "mimetype": "text/x-python",
   "name": "python",
   "nbconvert_exporter": "python",
   "pygments_lexer": "ipython3",
   "version": "3.11.7"
  }
 },
 "nbformat": 4,
 "nbformat_minor": 5
}
